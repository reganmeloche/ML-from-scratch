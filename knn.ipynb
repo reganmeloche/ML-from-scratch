{
  "nbformat": 4,
  "nbformat_minor": 0,
  "metadata": {
    "colab": {
      "provenance": [],
      "authorship_tag": "ABX9TyNHPeAZpIMcnY5abusrVD+f",
      "include_colab_link": true
    },
    "kernelspec": {
      "name": "python3",
      "display_name": "Python 3"
    },
    "language_info": {
      "name": "python"
    }
  },
  "cells": [
    {
      "cell_type": "markdown",
      "metadata": {
        "id": "view-in-github",
        "colab_type": "text"
      },
      "source": [
        "<a href=\"https://colab.research.google.com/github/reganmeloche/ML-from-scratch/blob/main/knn.ipynb\" target=\"_parent\"><img src=\"https://colab.research.google.com/assets/colab-badge.svg\" alt=\"Open In Colab\"/></a>"
      ]
    },
    {
      "cell_type": "markdown",
      "source": [
        "# KNN"
      ],
      "metadata": {
        "id": "112JdReGMCaR"
      }
    },
    {
      "cell_type": "markdown",
      "source": [
        "Sources:\n",
        "- https://machinelearningmastery.com/tutorial-to-implement-k-nearest-neighbors-in-python-from-scratch/\n",
        "- https://www.udemy.com/course/machinelearning\n",
        "- https://www.udemy.com/course/python-for-data-science-and-machine-learning-bootcamp"
      ],
      "metadata": {
        "id": "AhAU8oNN0Po-"
      }
    },
    {
      "cell_type": "markdown",
      "source": [
        "Suppose we have a classification problem with n different classes. Given a new instance/point, we want to classify it into one of these n classes.\n",
        "\n",
        "The knn algorithm is fairly straightforward:\n",
        "- We choose an integer k\n",
        "- For the new point, we find the k nearest neighbours, using a distance measurement (e.g. Euclidean distance)\n",
        "- For each class, count how many neighbours fall into that class\n",
        "- Assign the new instance the majority class of the k nearest neighbours\n",
        "\n",
        "No work is done until a prediction is required, so this is sometimes called a 'lazy learning' method. May be useful or detrimental, depending on the application.\n",
        "\n",
        "KNN can also be used for regression by taking the average of returned results.\n",
        "\n",
        "Pros:\n",
        "- Very simple\n",
        "- Basically no training involved\n",
        "- Works with multiple classes\n",
        "- Few parameters (k and distance metric)\n",
        "- Easy to add more data\n",
        "\n",
        "Cons:\n",
        "- High prediction cost (sorting, etc)\n",
        "- Bad with higher dimensional data\n",
        "- Categorical features don't work as well\n"
      ],
      "metadata": {
        "id": "V7vYfoD9yZOs"
      }
    },
    {
      "cell_type": "markdown",
      "source": [
        "## Setup"
      ],
      "metadata": {
        "id": "6sHfGd3F8TC0"
      }
    },
    {
      "cell_type": "code",
      "source": [
        "import numpy as np\n",
        "import pandas as pd\n",
        "import matplotlib.pyplot as plt\n",
        "import math\n",
        "\n",
        "%matplotlib inline"
      ],
      "metadata": {
        "id": "mKpSAD1LMC9K"
      },
      "execution_count": null,
      "outputs": []
    },
    {
      "cell_type": "code",
      "source": [
        "from sklearn import datasets\n",
        "\n",
        "X, y = datasets.make_blobs(n_samples=100, n_features=2, centers=3, cluster_std=2.5, random_state=1)\n",
        "\n",
        "new_point = [-5,0]\n",
        "\n",
        "plt.scatter(X[:, 0], X[:, 1], marker=\"o\", c=y, s=25, edgecolor=\"k\")\n",
        "plt.scatter(new_point[0], new_point[1], marker='x', s=100 )\n",
        "plt.show()"
      ],
      "metadata": {
        "colab": {
          "base_uri": "https://localhost:8080/",
          "height": 265
        },
        "id": "rqUG2lVay-oY",
        "outputId": "ae59bc19-193e-47e4-98f2-69d5a62a6dee"
      },
      "execution_count": null,
      "outputs": [
        {
          "output_type": "display_data",
          "data": {
            "text/plain": [
              "<Figure size 432x288 with 1 Axes>"
            ],
            "image/png": "[encoded data removed]"
          },
          "metadata": {
            "needs_background": "light"
          }
        }
      ]
    },
    {
      "cell_type": "markdown",
      "source": [
        "We need to do the following:\n",
        "- Write a simple function to calculate Euclidean distance between two points\n",
        "- Write a function that finds the k nearest neighbours to a new point given a set of existing data\n",
        "\n",
        "We can then visualize the k nearest neighbours. We then simply count how many of these neighbours belong to each category and take the one with the most."
      ],
      "metadata": {
        "id": "x2onEP4l380u"
      }
    },
    {
      "cell_type": "code",
      "source": [
        "def euclidean_distance(a, b):\n",
        "    d = 0\n",
        "    for x,y in zip(a,b):\n",
        "        d += (x - y)**2\n",
        "\n",
        "    return math.sqrt(d) "
      ],
      "metadata": {
        "id": "odnTOvuv0UJK"
      },
      "execution_count": null,
      "outputs": []
    },
    {
      "cell_type": "code",
      "source": [
        "def get_k_nearest_neighbours(train_data, new_x, k):\n",
        "    distances = []\n",
        "\n",
        "    for row in train_data:\n",
        "        next_dist = euclidean_distance(row[0:-1], new_x)\n",
        "        distances.append((row, next_dist))\n",
        "    \n",
        "    distances.sort(key=lambda x: x[1])\n",
        "\n",
        "    k_list = [d[0] for d in distances[0:k]]\n",
        "\n",
        "    return np.array(k_list)\n"
      ],
      "metadata": {
        "id": "P6cJhZv42Io2"
      },
      "execution_count": null,
      "outputs": []
    },
    {
      "cell_type": "code",
      "source": [
        "train_data = np.concatenate((X, np.transpose([y])), axis=1)\n",
        "k_list = get_k_nearest_neighbours(train_data, [-5,0], 8)"
      ],
      "metadata": {
        "id": "rvk3mYEz3EuI"
      },
      "execution_count": null,
      "outputs": []
    },
    {
      "cell_type": "code",
      "source": [
        "plt.scatter(k_list[:,0], k_list[:,1], marker='o', s=100, c='grey' )\n",
        "plt.scatter(X[:, 0], X[:, 1], marker=\"o\", c=y, s=25, edgecolor=\"k\")\n",
        "plt.scatter(new_point[0], new_point[1], marker=\"x\", s=100)\n",
        "plt.show()"
      ],
      "metadata": {
        "colab": {
          "base_uri": "https://localhost:8080/",
          "height": 265
        },
        "id": "GULs-rBF3Qc9",
        "outputId": "eef587c4-cffb-434d-c427-4a3b14273775"
      },
      "execution_count": null,
      "outputs": [
        {
          "output_type": "display_data",
          "data": {
            "text/plain": [
              "<Figure size 432x288 with 1 Axes>"
            ],
            "image/png": "[encoded data removed]"
          },
          "metadata": {
            "needs_background": "light"
          }
        }
      ]
    },
    {
      "cell_type": "code",
      "source": [
        "def knn_predict(train_data, new_x, k):\n",
        "    neighbors = get_k_nearest_neighbours(train_data, new_x, k)\n",
        "    y_vals = output_values = [a[-1] for a in neighbors]\n",
        "    pred = max(set(y_vals), key=y_vals.count)\n",
        "    return int(pred)\n",
        "    "
      ],
      "metadata": {
        "id": "IZ3rDWOc4lE_"
      },
      "execution_count": null,
      "outputs": []
    },
    {
      "cell_type": "code",
      "source": [
        "train_data = np.concatenate((X, np.transpose([y])), axis=1)\n",
        "\n",
        "for k in range(1,10):\n",
        "    pred = knn_predict(train_data, new_point, 5)\n",
        "    print(k, pred)"
      ],
      "metadata": {
        "colab": {
          "base_uri": "https://localhost:8080/"
        },
        "id": "x5iReUYa6gv8",
        "outputId": "13c18f8b-f268-402c-e3ef-36651dfc3565"
      },
      "execution_count": null,
      "outputs": [
        {
          "output_type": "stream",
          "name": "stdout",
          "text": [
            "1 0\n",
            "2 0\n",
            "3 0\n",
            "4 0\n",
            "5 0\n",
            "6 0\n",
            "7 0\n",
            "8 0\n",
            "9 0\n"
          ]
        }
      ]
    },
    {
      "cell_type": "markdown",
      "source": [
        "## KNN Classifier"
      ],
      "metadata": {
        "id": "8C6U3Kcg8P1B"
      }
    },
    {
      "cell_type": "code",
      "source": [
        "class MyKNN:\n",
        "    def __init__(self, k):\n",
        "        self.__k = k\n",
        "        self.__train_data = None\n",
        "    \n",
        "    def fit(self, X, y):\n",
        "        self.__train_data = np.concatenate((X, np.transpose([y])), axis=1)\n",
        "    \n",
        "    def predict(self, X):\n",
        "        return [\n",
        "            knn_predict(self.__train_data, x, self.__k) for x in X\n",
        "         ]\n",
        "        \n"
      ],
      "metadata": {
        "id": "n8XuWOd18Wts"
      },
      "execution_count": null,
      "outputs": []
    },
    {
      "cell_type": "markdown",
      "source": [
        "## Evaluation and Comparison"
      ],
      "metadata": {
        "id": "u1rNxVj_84Tv"
      }
    },
    {
      "cell_type": "code",
      "source": [
        "from sklearn.model_selection import train_test_split\n",
        "from sklearn import metrics\n",
        "from sklearn.neighbors import KNeighborsClassifier"
      ],
      "metadata": {
        "id": "sS_1QykJ9F2h"
      },
      "execution_count": null,
      "outputs": []
    },
    {
      "cell_type": "code",
      "source": [
        "iris = datasets.load_iris()\n",
        "\n",
        "X = iris.data\n",
        "y = iris.target\n",
        "\n",
        "X_train, X_test, y_train, y_test = train_test_split(X,y,test_size=0.2, stratify=y)"
      ],
      "metadata": {
        "id": "q9x-RPAh1q2r"
      },
      "execution_count": null,
      "outputs": []
    },
    {
      "cell_type": "code",
      "source": [
        "my_knn = MyKNN(5)\n",
        "\n",
        "my_knn.fit(X_train, y_train)\n",
        "\n",
        "y_pred = my_knn.predict(X_test)\n",
        "\n",
        "print(metrics.classification_report(y_test, y_pred))\n"
      ],
      "metadata": {
        "colab": {
          "base_uri": "https://localhost:8080/"
        },
        "id": "jL5cyzcL2Cjm",
        "outputId": "01de7f0f-fead-4a51-fa89-18eaebc0fa12"
      },
      "execution_count": null,
      "outputs": [
        {
          "output_type": "stream",
          "name": "stdout",
          "text": [
            "              precision    recall  f1-score   support\n",
            "\n",
            "           0       1.00      1.00      1.00        10\n",
            "           1       1.00      0.90      0.95        10\n",
            "           2       0.91      1.00      0.95        10\n",
            "\n",
            "    accuracy                           0.97        30\n",
            "   macro avg       0.97      0.97      0.97        30\n",
            "weighted avg       0.97      0.97      0.97        30\n",
            "\n"
          ]
        }
      ]
    },
    {
      "cell_type": "code",
      "source": [
        "# Comparison with sklearn\n",
        "knn = KNeighborsClassifier(n_neighbors = 5)\n",
        "\n",
        "knn.fit(X_train, y_train)\n",
        "\n",
        "y_pred2 = knn.predict(X_test)\n",
        "\n",
        "print(metrics.classification_report(y_test, y_pred2))"
      ],
      "metadata": {
        "colab": {
          "base_uri": "https://localhost:8080/"
        },
        "id": "7B7ij8La9UbY",
        "outputId": "f14fc85f-3b11-4165-b599-d6ecb1a65ddc"
      },
      "execution_count": null,
      "outputs": [
        {
          "output_type": "stream",
          "name": "stdout",
          "text": [
            "              precision    recall  f1-score   support\n",
            "\n",
            "           0       1.00      1.00      1.00        10\n",
            "           1       1.00      0.90      0.95        10\n",
            "           2       0.91      1.00      0.95        10\n",
            "\n",
            "    accuracy                           0.97        30\n",
            "   macro avg       0.97      0.97      0.97        30\n",
            "weighted avg       0.97      0.97      0.97        30\n",
            "\n"
          ]
        }
      ]
    },
    {
      "cell_type": "code",
      "source": [],
      "metadata": {
        "id": "EeJRqAww9kya"
      },
      "execution_count": null,
      "outputs": []
    }
  ]
}