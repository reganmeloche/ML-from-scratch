{
  "nbformat": 4,
  "nbformat_minor": 0,
  "metadata": {
    "colab": {
      "provenance": [],
      "mount_file_id": "1YN50nyafCCwSiXwFpWNgrOzGYoAwCg3E",
      "authorship_tag": "ABX9TyOgT3hfqlaznPfM7tal969K",
      "include_colab_link": true
    },
    "kernelspec": {
      "name": "python3",
      "display_name": "Python 3"
    },
    "language_info": {
      "name": "python"
    }
  },
  "cells": [
    {
      "cell_type": "markdown",
      "metadata": {
        "id": "view-in-github",
        "colab_type": "text"
      },
      "source": [
        "<a href=\"https://colab.research.google.com/github/reganmeloche/ML-from-scratch/blob/main/svm.ipynb\" target=\"_parent\"><img src=\"https://colab.research.google.com/assets/colab-badge.svg\" alt=\"Open In Colab\"/></a>"
      ]
    },
    {
      "cell_type": "markdown",
      "source": [
        "# SVM"
      ],
      "metadata": {
        "id": "fc82zIQwCia8"
      }
    },
    {
      "cell_type": "markdown",
      "source": [
        "Given a set of training examples for a binary class, SVM (Support Vector Machine) builds a model that classifies new examples - it is a non-probabilistic binary linear classifier (Logistic Regression is probabilistic)\n",
        "\n",
        "For a given classification, we may have a hyperplane (e.g. a line) that separates the points, but there may be multiple possibilities for hyperplanes - how do we find the best one?\n",
        "\n",
        "The points that the separating hyperplanes touch are the \"support vectors\". The SVM classifier is, in a sense, *defined* by the support vectors. \n",
        "\n",
        "In this notebook, we will discuss some important theory behind how SVM works, and build our own simple SVM classifier from scratch. We will then test it on a simple automatically generated dataset and compare with SKlearn's SVM implementation.\n"
      ],
      "metadata": {
        "id": "OYgx9F5eCktn"
      }
    },
    {
      "cell_type": "markdown",
      "source": [
        "Sources:\n",
        "- https://www.youtube.com/watch?v=efR1C6CvhmE&ab_channel=StatQuestwithJoshStarmer\n",
        "- https://towardsdatascience.com/support-vector-machine-introduction-to-machine-learning-algorithms-934a444fca47\n",
        "- https://www.svm-tutorial.com/2014/11/svm-understanding-math-part-1/\n",
        "- https://towardsdatascience.com/implementing-svm-from-scratch-784e4ad0bc6a"
      ],
      "metadata": {
        "id": "PS5P4E9L1WlP"
      }
    },
    {
      "cell_type": "code",
      "source": [
        "import numpy as np\n",
        "import pandas as pd\n",
        "import matplotlib.pyplot as plt\n",
        "\n",
        "import math\n",
        "\n",
        "%matplotlib inline"
      ],
      "metadata": {
        "id": "_-jmpBr5F24r"
      },
      "execution_count": null,
      "outputs": []
    },
    {
      "cell_type": "markdown",
      "source": [
        "## Theory"
      ],
      "metadata": {
        "id": "ODWEU-uHvgkz"
      }
    },
    {
      "cell_type": "markdown",
      "source": [
        "So how do we find the hyperplane?\n",
        "\n",
        "We will find optimal weights and intercept of the hyperplane by minimizing some cost function. \n",
        "\n",
        "The shortest distance between observations and our separating hyperplane is called the **margin**\n",
        "- For example, in a 1D problem, we just put a point halfway between the two threshold observations (the support vectors). The margin is as large as it could be in this case.\n",
        "- In 2D, the hyperplane will be a 1D line and becomes more difficult.\n",
        "- We want to make the margin as big as possible (gives breathing room between classes, and will work best on new instances of data)\n",
        "\n",
        "Ideally there are no points within the margins, and in this case we would use the maximal marginal classifier. But this may not be realistic when dealing with real data, as there may be some outliers in each of the classes. In this case, we must allow for misclassifications, and use a **soft-margin classifier**. We will focus on the simpler maximal margin classifier case.\n",
        "\n",
        "We can think of the general process as selecting two hyperplanes that separate the data and then maximizing their distance. For this tutorial, we will assume the data is linearly separable, and use the maximal margin classifier.\n"
      ],
      "metadata": {
        "id": "SGuvvtWLveab"
      }
    },
    {
      "cell_type": "markdown",
      "source": [
        "### Deriving the margin equation"
      ],
      "metadata": {
        "id": "gQomESeD8T5_"
      }
    },
    {
      "cell_type": "markdown",
      "source": [
        "The margin for the data below is separated by the two blue lines.\n",
        "\n",
        "The equation for our hyperplane H can be thought of as a linear combination: $ y = w_1 x_1 + w_2 x_2 + b = w^T x + b$\n",
        "\n",
        "An important property to note is that the vector w is perpendicular to the hyperplane."
      ],
      "metadata": {
        "id": "Req7ciEA8YOx"
      }
    },
    {
      "cell_type": "code",
      "source": [
        "X = np.array([[1,2], [3,1], [-1,-2]])\n",
        "Y = [-1,1,1]\n",
        "\n",
        "plt.scatter(X[:, 0], X[:, 1], marker=\"o\", c=Y, s=25, edgecolor=\"k\")\n",
        "\n",
        "x = np.linspace(-4, 4, 100)\n",
        "plt.plot(x, 0.75*x, color='Red')\n",
        "\n",
        "plt.plot(x, 0.75*x+1, color='Blue', linestyle='dashed')\n",
        "plt.plot(x, 0.75*x-1, color='Blue', linestyle='dashed')\n",
        "\n",
        "plt.show()"
      ],
      "metadata": {
        "colab": {
          "base_uri": "https://localhost:8080/",
          "height": 265
        },
        "id": "mVcr0DjS8ulY",
        "outputId": "e6676b24-473c-4c46-bbbc-99fc539cbeec"
      },
      "execution_count": null,
      "outputs": [
        {
          "output_type": "display_data",
          "data": {
            "text/plain": [
              "<Figure size 432x288 with 1 Axes>"
            ],
            "image/png": "[encoded data removed]"
          },
          "metadata": {
            "needs_background": "light"
          }
        }
      ]
    },
    {
      "cell_type": "markdown",
      "source": [
        "\n",
        "Our two other planes that cross our support vectors can be defines as follows:\n",
        "- H0: for class $y=-1$, $w^T x  +b \\leq -1$\n",
        "- H1: for class $y=1$, $w^T x + b \\geq 1$\n",
        "\n",
        "Let's imagine $x_0$ is a point on H0. We'll say m is the perpendicular distance from x0 to H1 (aka the margin). So we want to find the value of m.\n",
        "\n",
        "Since w is perpendicular, we can use that and do some clever math\n",
        "- First, we take the unit vector of w: $u = \\frac{w} {\\|w\\|}$\n",
        "- This vector has length 1. So we need to ask how much we scale this by to get from $x_0$ to H1. The answer is m, so we get the vector k: $k = mu$\n",
        "- k is perpendicular to H1 and $\\|k\\| = m$\n",
        "\n",
        "Now we have $x_0 + k = z_0$, where $z_0$ is a point on H1."
      ],
      "metadata": {
        "id": "j1pwZf0bBSUx"
      }
    },
    {
      "cell_type": "markdown",
      "source": [
        "Now we do a bit more algebra to simplify:\n",
        "$$w \\cdot z_0 + b = 1$$\n",
        "\n",
        "$$ w \\cdot (x_0 + m \\frac{w} {|w\\|}) + b = 1 $$\n",
        "\n",
        "$$ w \\cdot x_0 + m \\frac{w \\cdot w} {\\|w\\|}) + b = 1 $$\n",
        "\n",
        "$$ w \\cdot x_0 + m {\\|w\\|} + b = 1 $$\n",
        "\n",
        "Since $w \\cdot x_0 + b = 1$, we get:\n",
        "\n",
        "$$ -1 = 1 - m{\\|w\\|} $$\n",
        "\n",
        "$$ m = \\frac{2}{\\|w\\|} $$"
      ],
      "metadata": {
        "id": "3gW3wHtnC-L_"
      }
    },
    {
      "cell_type": "markdown",
      "source": [
        "So we have a way to compute the margin. It's fairly straightforward - if we increase it, then m is small. Bigger norm means smaller margin. Smaller norm means bigger margin.\n",
        "\n",
        "Our goal is to minimize this, but we are subject to certain constraints, namely:\n",
        "$$ y_i = -1: w \\cdot x_i + b \\leq -1  $$\n",
        "$$ y_i = 1: w \\cdot x_i + b \\geq 1  $$\n",
        "\n",
        "We can re-organize both of these into a single statement:\n",
        "$$ y_i(w \\cdot x_i + b) \\geq 1 $$\n",
        "\n"
      ],
      "metadata": {
        "id": "U3nUDsHrESVB"
      }
    },
    {
      "cell_type": "markdown",
      "source": [
        "So our goal is as follows: Minimize $\\|w\\|$ subject to We can re-organize both of these into a single statement:\n",
        "$$ y_i(w \\cdot x_i + b) \\geq 1 $$"
      ],
      "metadata": {
        "id": "r53OJ_qPFjbS"
      }
    },
    {
      "cell_type": "markdown",
      "source": [
        "### Hinge Loss\n"
      ],
      "metadata": {
        "id": "0La2cpSmhQ_Z"
      }
    },
    {
      "cell_type": "markdown",
      "source": [
        "We want to incorporate these two ideas into a single equation, which we will then optimize. \n",
        "\n",
        "We can use the hinge loss function as a simple loss function for the maximum margin classification:\n",
        "\n",
        "$$ L = max(0, 1 - y_i(w \\cdot x_i + b) ) $$\n",
        "\n",
        "Note the following:\n",
        "- $y_i$ will be either 1 or -1\n",
        "- $ w \\cdot x_i + b$ could be any number and represents the prediction for a given $x_i$. If the actual $y_i$ value is 1, then we want $ w \\cdot x_i + b \\geq 1$.\n",
        "- If it is greater than 1, then the hinge loss function results in 0. \n",
        "- If it is less than 1, then the hinge loss function punishes it with a high loss value. Our goal is to minimize this.\n",
        "\n",
        "To visualize, let's replace $w \\cdot x_i + b $ with t to get $ L = max(0, 1 - y_i \\cdot t ) $\n",
        "\n",
        "We define a simple hinge loss function below and show the resulting graph for the case where $y_i = 1$\n",
        "\n",
        "So anything that correctly predicts a high value ( > 1) receives  loss of 0. If the prediction is less than 1, then it is incorrect, and is punished with a high loss value."
      ],
      "metadata": {
        "id": "L5vhtR-hhTpc"
      }
    },
    {
      "cell_type": "code",
      "source": [
        "def hinge_loss(y, t):\n",
        "    return max(0, 1 - (y*t))"
      ],
      "metadata": {
        "id": "yErk2aomlKqc"
      },
      "execution_count": null,
      "outputs": []
    },
    {
      "cell_type": "code",
      "source": [
        "x = np.linspace(-4, 4, 100)\n",
        "x2 = [hinge_loss(1, a) for a in x]\n",
        "\n",
        "plt.plot(x, x2, color='Blue')\n",
        "plt.show()"
      ],
      "metadata": {
        "colab": {
          "base_uri": "https://localhost:8080/",
          "height": 265
        },
        "id": "oUsDiyJLhS0P",
        "outputId": "24be402a-0b50-4c38-9ed7-66c3f0af0363"
      },
      "execution_count": null,
      "outputs": [
        {
          "output_type": "display_data",
          "data": {
            "text/plain": [
              "<Figure size 432x288 with 1 Axes>"
            ],
            "image/png": "[encoded data removed]"
          },
          "metadata": {
            "needs_background": "light"
          }
        }
      ]
    },
    {
      "cell_type": "markdown",
      "source": [
        "We will replace t with $w \\cdot x_i + b $, but the idea is that we want to punish incorrectly classified values with a higher loss value.\n"
      ],
      "metadata": {
        "id": "shT8hf9emSx2"
      }
    },
    {
      "cell_type": "markdown",
      "source": [
        "We want to minimize this over our entire dataset, so we can add the results for all the data points and then take the average:\n",
        "\n",
        "$$ \\frac{1}{n}\\sum_{i=1}^{n} max(0, 1 - y_i(w \\cdot x_i + b) ) $$\n",
        "\n",
        "We also know that our goal is to minimize $\\|w\\|$, so we can combine these two pieces into a single equation:\n",
        "\n",
        "$$F(w,b) = \\frac{1}{2}\\|w\\|^2 + \\frac{1}{n}\\sum_{i=1}^{n} max(0, 1 - y_i(w \\cdot x_i + b) ) $$\n",
        "\n",
        "The \\|w\\| has been squared and halved for convenience to make it easier to work with later, but it does not affect the general idea. Our goal is now to minimize this function."
      ],
      "metadata": {
        "id": "CFnx_T-vnzqd"
      }
    },
    {
      "cell_type": "markdown",
      "source": [
        "### Calculus background"
      ],
      "metadata": {
        "id": "3xn1sZiD6V_4"
      }
    },
    {
      "cell_type": "markdown",
      "source": [
        "Optimizing a function (minimizing or maximizing) is often done using calculus. The derivative of a function can tell you where a function is increasing or decreasing or at an optima.\n",
        "\n",
        "For example, consider $y = x^2 - 6x$, and the derivative $2x-6$, plotted below. The red solid line is the function, and the green dotted line is the derivative. The derivative is negative where the function is decreasing, it is positive where the function is increasing, and it is 0 where the function is at a minimum. "
      ],
      "metadata": {
        "id": "f9uMb6Ta6Y9C"
      }
    },
    {
      "cell_type": "code",
      "source": [
        "fig = plt.figure()\n",
        "ax = plt.axes()\n",
        "x = np.linspace(-10, 10, 100)\n",
        "plt.plot(x, x**2 - 6*x, color='Red', linewidth=3)\n",
        "plt.plot(x, (2*x) - 6, color='Green', linestyle='dashed', linewidth=3)\n",
        "plt.show()"
      ],
      "metadata": {
        "colab": {
          "base_uri": "https://localhost:8080/",
          "height": 265
        },
        "id": "CEW344r75OJu",
        "outputId": "8b6f2dd1-b0a8-4872-d49b-3f7b04e1cf6d"
      },
      "execution_count": null,
      "outputs": [
        {
          "output_type": "display_data",
          "data": {
            "text/plain": [
              "<Figure size 432x288 with 1 Axes>"
            ],
            "image/png": "[encoded data removed]"
          },
          "metadata": {
            "needs_background": "light"
          }
        }
      ]
    },
    {
      "cell_type": "markdown",
      "source": [
        "The **gradient** is a generalization of the usual concept of derivative applied to a function in mulitple dimensions, e.g. $f(x_1,x_2)$. If we find the spots where the partial derivatives are both 0, then we have found local minima. For minimization problems, we often want the *global* optima rather than the local ones, and if certain properties hold, such as convexity, then we can say the local minima is the global minima. \n"
      ],
      "metadata": {
        "id": "n1W0wqW17cOE"
      }
    },
    {
      "cell_type": "markdown",
      "source": [
        "Our function F has multiple variables (w and b), so we can calculate the gradient to minimize. We take partial derivatives. Since we have that \"max\" component of our  function, we need to consider the two cases:\n",
        "- Case 1: If $y_1(w \\cdot x_i + b) \\geq 1$. In this case, we get a 0, and the function simplifies to $F = \\frac{1}{2}\\|w\\|$\n",
        "- Case 2: If it's less than 1, in which case we have:  $F = \\frac{1}{2}\\|w\\| + 1 - y_i(w \\cdot x_i + b)$\n",
        "\n",
        "In the first case, our partial derivatives are:\n",
        "\n",
        "$$\\frac{\\partial F}{\\partial w_i} = w_i$$\n",
        "\n",
        "$$ \\frac{\\partial F}{\\partial b} = 0 $$\n",
        "\n",
        "In the second case:\n",
        "\n",
        "$$\\frac{\\partial F}{\\partial w_i} = w_i - y_i x_i$$\n",
        "\n",
        "$$ \\frac{\\partial F}{\\partial b} = -y_i $$\n",
        "\n"
      ],
      "metadata": {
        "id": "ji7opFL7pgyv"
      }
    },
    {
      "cell_type": "code",
      "source": [
        "def get_gradients(loss, w, x, y):\n",
        "    if loss == 0:\n",
        "        dw = w\n",
        "        db = 0\n",
        "    else:\n",
        "        dw = w - np.dot(x,y)\n",
        "        db = -y\n",
        "    \n",
        "    return dw, db"
      ],
      "metadata": {
        "id": "Wor96hTdtJWG"
      },
      "execution_count": null,
      "outputs": []
    },
    {
      "cell_type": "markdown",
      "source": [
        "### Optional: Lagrange Multipliers"
      ],
      "metadata": {
        "id": "BKgpjyTlpHnk"
      }
    },
    {
      "cell_type": "markdown",
      "source": [
        "We are focusing on the easier maximum margin classifier case, where we assume that our data is linearly separable. If that is not the case, then we need to use some more complicated math. We will not go through thi in detail, but it is covered very well here: https://www.svm-tutorial.com/. \n",
        "\n",
        "We will just highlight some key points:\n",
        "- If a point $x_i$ satisfies $\\nabla f(x_i) = 0$ and the Hessian is positive-definite, then $x_i$ is a local minimum\n",
        "- The Hessian is a matrix of second partial derivatives of the function. To verify that it is positive-definite, we can compute leading principal minors.\n",
        "- If the function is convex, then the local minimum is also the global minimum\n",
        "\n",
        "We are also not *just* solving a minimization problem - we also have to deal with constraints. For this we can use Lagrange multipliers. \n",
        "- If we need to minimize function f subject to an equality constraint g, then we look for points where $\\nabla f(x,y) = \\lambda \\nabla g(x,y) $\n",
        "- $\\lambda$ is called the **Lagrange multiplier**\n",
        "- We capture this in a formula: $L(x,y,\\lambda) = f(x,y) - \\lambda g(x,y)$\n",
        "- Then take the gradient: $\\nabla L(x,y,\\lambda) = \\nabla f(x,y) - \\lambda \\nabla g(x,y)$\n",
        "\n",
        "That is all we will say about Lagrange multipliers.\n"
      ],
      "metadata": {
        "id": "3F7OPT--GFr3"
      }
    },
    {
      "cell_type": "markdown",
      "source": [
        "### Optional: SVM vs LR"
      ],
      "metadata": {
        "id": "ZlpJGeJRuYFT"
      }
    },
    {
      "cell_type": "markdown",
      "source": [
        "Both LR and SVM are supervised learning algorithms for classification problems. Both involve taking a probabilistic model and minimizing some cost associated with misclassification.\n",
        "\n",
        "LR focuses on maximizing the probability of the data. The farther the data is from the separating hyperplane, the happier LR is.\n",
        "\n",
        "SVM tries to find the separating hyperplane that maximizes the distance of the closest points to the margin (support vectors). If a point is not a support vector, then it doesn't matter.\n"
      ],
      "metadata": {
        "id": "Kw1r75c9uawY"
      }
    },
    {
      "cell_type": "markdown",
      "source": [
        "## SVM Class"
      ],
      "metadata": {
        "id": "fZZtZmbtrQyO"
      }
    },
    {
      "cell_type": "markdown",
      "source": [
        "We now define the SVM class. The parameters include the number of iterations for which the algorithm runs and a learning rate, which helps smooth out the gradient update values."
      ],
      "metadata": {
        "id": "Ipoxjv2Qtz-r"
      }
    },
    {
      "cell_type": "code",
      "source": [
        "class MySVM:\n",
        "    def __init__(self, num_iterations = 100, learning_rate = 1e-3):\n",
        "        self.num_iterations = num_iterations\n",
        "        self.learning_rate = learning_rate\n",
        "    \n",
        "    def fit(self, X, y):\n",
        "        # Initialize the vector and intercept to 0 values\n",
        "        dim = X.shape[1]\n",
        "        self.w = np.zeros(dim)\n",
        "        self.b = 0\n",
        "\n",
        "        # Map the labels from {0,1} to {-1,1}\n",
        "        y_new = np.where(y == 0, -1, 1)\n",
        "\n",
        "        for i in range(self.num_iterations):\n",
        "            for idx,x in enumerate(X):\n",
        "                t = np.dot(x, self.w) + self.b\n",
        "                loss = hinge_loss(y_new[idx], t)\n",
        "                dw, db = get_gradients(loss, self.w, x, y_new[idx])\n",
        "                self.w -= self.learning_rate * dw\n",
        "                self.b -= self.learning_rate * db\n",
        "        return\n",
        "\n",
        "    def predict(self, X):\n",
        "        y_hat = np.dot(X, self.w) + self.b\n",
        "        pred = np.sign(y_hat)\n",
        "\n",
        "        # Map back to {0,1}\n",
        "        return np.where(pred == -1, 0, 1)\n"
      ],
      "metadata": {
        "id": "jpItazYSrSN1"
      },
      "execution_count": null,
      "outputs": []
    },
    {
      "cell_type": "markdown",
      "source": [
        "## Evaluation and Comparison"
      ],
      "metadata": {
        "id": "_0wLoqD7u2BJ"
      }
    },
    {
      "cell_type": "code",
      "source": [
        "from sklearn import datasets\n",
        "from sklearn.model_selection import train_test_split\n",
        "from sklearn import metrics\n",
        "from sklearn.svm import SVC"
      ],
      "metadata": {
        "id": "sc-AvCehJny1"
      },
      "execution_count": null,
      "outputs": []
    },
    {
      "cell_type": "code",
      "execution_count": null,
      "metadata": {
        "id": "3hLvie72ChYM",
        "colab": {
          "base_uri": "https://localhost:8080/",
          "height": 265
        },
        "outputId": "0d2271e8-3c9b-4de8-b381-1a472815db83"
      },
      "outputs": [
        {
          "output_type": "display_data",
          "data": {
            "text/plain": [
              "<Figure size 432x288 with 1 Axes>"
            ],
            "image/png": "[encoded data removed]"
          },
          "metadata": {
            "needs_background": "light"
          }
        }
      ],
      "source": [
        "X, y = datasets.make_blobs(n_samples=500, n_features=2, centers=2, cluster_std=3.5, random_state=1)\n",
        "\n",
        "X_train, X_test, y_train, y_test = train_test_split(X, y, test_size=0.2, shuffle=True, random_state=1)\n",
        "\n",
        "plt.scatter(X[:, 0], X[:, 1], marker=\"o\", c=y, s=25, edgecolor=\"k\")\n",
        "plt.show()"
      ]
    },
    {
      "cell_type": "code",
      "source": [
        "my_svm = MySVM()\n",
        "\n",
        "my_svm.fit(X_train, y_train)\n",
        "\n",
        "preds = my_svm.predict(X_test)\n",
        "\n",
        "print(metrics.classification_report(y_test, preds))"
      ],
      "metadata": {
        "colab": {
          "base_uri": "https://localhost:8080/"
        },
        "id": "VShCjFIfQLup",
        "outputId": "b015971c-88eb-4d24-bd6d-7d7816172a4f"
      },
      "execution_count": null,
      "outputs": [
        {
          "output_type": "stream",
          "name": "stdout",
          "text": [
            "              precision    recall  f1-score   support\n",
            "\n",
            "           0       0.96      0.96      0.96        50\n",
            "           1       0.96      0.96      0.96        50\n",
            "\n",
            "    accuracy                           0.96       100\n",
            "   macro avg       0.96      0.96      0.96       100\n",
            "weighted avg       0.96      0.96      0.96       100\n",
            "\n"
          ]
        }
      ]
    },
    {
      "cell_type": "code",
      "source": [
        "svm = SVC()\n",
        "\n",
        "svm.fit(X_train, y_train)\n",
        "\n",
        "preds2 = svm.predict(X_test)\n",
        "\n",
        "print(metrics.classification_report(y_test, preds2))"
      ],
      "metadata": {
        "colab": {
          "base_uri": "https://localhost:8080/"
        },
        "id": "Xz1I9-CAWsNu",
        "outputId": "961ee68d-593f-4ad2-8d96-34eb67d55ea8"
      },
      "execution_count": null,
      "outputs": [
        {
          "output_type": "stream",
          "name": "stdout",
          "text": [
            "              precision    recall  f1-score   support\n",
            "\n",
            "           0       0.96      0.96      0.96        50\n",
            "           1       0.96      0.96      0.96        50\n",
            "\n",
            "    accuracy                           0.96       100\n",
            "   macro avg       0.96      0.96      0.96       100\n",
            "weighted avg       0.96      0.96      0.96       100\n",
            "\n"
          ]
        }
      ]
    }
  ]
}