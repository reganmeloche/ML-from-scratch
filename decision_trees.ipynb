{
  "nbformat": 4,
  "nbformat_minor": 0,
  "metadata": {
    "colab": {
      "provenance": [],
      "collapsed_sections": [
        "nXoI9Bnrlbap",
        "bYTbxZuwBRBD",
        "ywi7bpYzlaCk",
        "U6mdmVCHY3Zf",
        "LCj6DrO2hvVM",
        "Q_oNKpU0vXJP"
      ],
      "authorship_tag": "ABX9TyNuiyhuXQX7tuGjPG/FsMwA",
      "include_colab_link": true
    },
    "kernelspec": {
      "name": "python3",
      "display_name": "Python 3"
    },
    "language_info": {
      "name": "python"
    }
  },
  "cells": [
    {
      "cell_type": "markdown",
      "metadata": {
        "id": "view-in-github",
        "colab_type": "text"
      },
      "source": [
        "<a href=\"https://colab.research.google.com/github/reganmeloche/ML-from-scratch/blob/main/decision_trees.ipynb\" target=\"_parent\"><img src=\"https://colab.research.google.com/assets/colab-badge.svg\" alt=\"Open In Colab\"/></a>"
      ]
    },
    {
      "cell_type": "markdown",
      "source": [
        "# Decision Trees"
      ],
      "metadata": {
        "id": "7jT9F-2ZHFGw"
      }
    },
    {
      "cell_type": "markdown",
      "source": [
        "This notebook walks through the underlying process of a decision tree, one of the most basic supervised machine learning classifiers. Our goal is to use historical data to predict an outcome.\n",
        "\n",
        "\n",
        "\n",
        "A tree is composed of nodes, and those nodes are chosen by looking for the optimum split of features, which is calculated using the principle of information gain.  The two main mechanisms for decision tree splits that we look at are the Gini index and entropy."
      ],
      "metadata": {
        "id": "3eufNf31HCXa"
      }
    },
    {
      "cell_type": "markdown",
      "source": [
        "Sources:\n",
        "- https://machinelearningmastery.com/implement-decision-tree-algorithm-scratch-python/\n",
        "- https://towardsdatascience.com/entropy-how-decision-trees-make-decisions-2946b9c18c8\n",
        "- https://towardsdatascience.com/entropy-and-information-gain-in-decision-trees-c7db67a3a293\n",
        "- https://quantdare.com/decision-trees-gini-vs-entropy/\n",
        "- Grokking Artificial Intelligence Algorithms - Rishal Hurbans\n",
        "- Machine Learning - Peter Flach\n",
        "\n",
        "\n"
      ],
      "metadata": {
        "id": "1zOacBha1R0U"
      }
    },
    {
      "cell_type": "markdown",
      "source": [
        "## Calculators"
      ],
      "metadata": {
        "id": "nXoI9Bnrlbap"
      }
    },
    {
      "cell_type": "markdown",
      "source": [
        "A split is determined using the concept of information gain - the amount of information gained by asking a specific yes/no question. If a lot of information is gained, then the uncertainty is smaller, making a prediction easier\n",
        "\n",
        "General process: \n",
        "- Split the dataset by asking a question\n",
        "- Calculate gini/entropy for the left split\n",
        "- Get the weighted average for the left split\n",
        "- Calculate gini/entropy for the right split\n",
        "- Get the weighted average for the right split\n",
        "- Sum them together to get the final amount\n",
        "- Do this on all possible splits, and choose the one with the lowest value (i.e. the one that maximizes information gain)"
      ],
      "metadata": {
        "id": "6VGsdvQHMjnX"
      }
    },
    {
      "cell_type": "code",
      "source": [
        "# Basic Imports\n",
        "import pandas as pd\n",
        "import numpy as np\n",
        "import math"
      ],
      "metadata": {
        "id": "zO3djtxrzJK_"
      },
      "execution_count": null,
      "outputs": []
    },
    {
      "cell_type": "markdown",
      "source": [
        "### Gini index"
      ],
      "metadata": {
        "id": "bYTbxZuwBRBD"
      }
    },
    {
      "cell_type": "markdown",
      "source": [
        "The gini impurity measures the frequency at which any element of the dataset will be mislabelled when it is randomly labeled.\n",
        "\n",
        "The minimum value of the Gini Index is 0. This happens when the node is pure, this means that all the contained elements in the node are of one unique class. Therefore, this node will not be split again. Thus, the optimum split is chosen by the features with less Gini Index. Moreover, it gets the maximum value (0.5) when the probability of the two classes are the same.\n",
        "\n",
        "\n",
        "$$ Gini = 1 - \\sum_{i=1}^{C} p_i^2 $$ \n",
        "\n",
        "Where $p_i$ is the probability of an object being classified in class i.\n"
      ],
      "metadata": {
        "id": "tAO3yV_SPyJl"
      }
    },
    {
      "cell_type": "code",
      "source": [
        "class GiniCalculator:\n",
        "    # This function assumes we have already split some data into separate groups. \n",
        "    # We are evaluating the gini index of each group and then adding them together to get the weighted sum for the entire split\n",
        "    def calculate(self, groups, classes):\n",
        "        total_size = sum([len(group) for group in groups])\n",
        "    \n",
        "        # sum weighted Gini index for each group\n",
        "        weighted_sum = 0.0\n",
        "        for group in groups:\n",
        "            group_size = len(group)\n",
        "\n",
        "            # avoid divide by zero\n",
        "            if group_size == 0:\n",
        "                continue\n",
        "\n",
        "            sum_p2 = 0.0\n",
        "            # score the group based on the score for each class\n",
        "            for class_val in classes:\n",
        "                y_vals = [row[-1] for row in group]\n",
        "                p = y_vals.count(class_val) / group_size\n",
        "                sum_p2 += p * p\n",
        "\n",
        "            # weight the group score by its relative size\n",
        "            gini_index = 1.0 - sum_p2\n",
        "            weighted_sum += gini_index * (group_size / total_size)\n",
        "\n",
        "        return round(weighted_sum, 2)"
      ],
      "metadata": {
        "id": "mVssrCGRflpR"
      },
      "execution_count": null,
      "outputs": []
    },
    {
      "cell_type": "markdown",
      "source": [
        "### Entropy"
      ],
      "metadata": {
        "id": "ywi7bpYzlaCk"
      }
    },
    {
      "cell_type": "markdown",
      "source": [
        "Generally speaking, entropy is a measure of disorder. We use it here to measure how \"mixed\" a column is. It indicates the disorder of the features with the target.\n",
        "\n",
        "$$ Entropy = \\sum_{i=1}^{C} -p_i \\cdot \\log_k{p_i} $$\n",
        "\n",
        "Where k is usually 2, and $p_i$ is the probability of class i\n",
        "\n",
        "Suppose we have 2 classes and 10 data points. Class A has 7 instances, and B has 3:\n",
        "- Entropy = - 0.3 * log2(0.3) - 0.7 * log2(0.7) = 0.88\n",
        "\n",
        "This is considered high. Entropy can be higher than 1 - can use different logs with different number of classes, but its all just a measure of disorder or uncertainty, and the goal is to reduce uncertainty.\n",
        "\n",
        "It gets its maximum value when the probability of the two classes is the same and a node is pure when the entropy has its minimum value, which is 0.\n"
      ],
      "metadata": {
        "id": "mH1tKETOcr5N"
      }
    },
    {
      "cell_type": "markdown",
      "source": [
        "In information theory, a bit is thought of as a binary number representing 0 for no information and 1 for a full bit of information. We can represent a bit of information as a binary number because it either has the value (1) or (0). Suppose there’s an equal probability of it raining tomorrow (1) or not raining(0). If I tell you that it will rain tomorrow, I’ve given you one bit of information.\n"
      ],
      "metadata": {
        "id": "8u6OzVzJlqWy"
      }
    },
    {
      "cell_type": "code",
      "source": [
        "class EntropyCalculator:\n",
        "    def calculate(self, groups, classes):\n",
        "        total_size = sum([len(group) for group in groups])\n",
        "        logk = math.log(len(classes))\n",
        "\n",
        "        weighted_sum = 0.0\n",
        "        for group in groups:\n",
        "            group_size = len(group)\n",
        "            # avoid divide by zero\n",
        "            if group_size == 0:\n",
        "                continue\n",
        "\n",
        "            summations = 0.0\n",
        "            for class_val in classes:\n",
        "                y_vals = [row[-1] for row in group]\n",
        "                p = y_vals.count(class_val) / group_size\n",
        "                if p > 0 and logk > 0:\n",
        "                    next_calc = -p * (math.log(p)/logk)\n",
        "                    summations += next_calc\n",
        "\n",
        "            weighted_sum += summations * (group_size / total_size)\n",
        "        \n",
        "        return round(weighted_sum, 2)"
      ],
      "metadata": {
        "id": "KvSvy51_ldWq"
      },
      "execution_count": null,
      "outputs": []
    },
    {
      "cell_type": "code",
      "source": [
        "g = [\n",
        "    [\n",
        "        [0,0], [0,0], [0,0], [0,1], [0,1], [0,1], [0,1], [0,1], [0,1], [0,1]\n",
        "    ]\n",
        "]\n",
        "\n",
        "en = EntropyCalculator()\n",
        "en.calculate(g, [0,1])"
      ],
      "metadata": {
        "colab": {
          "base_uri": "https://localhost:8080/"
        },
        "id": "0Wd7psXJdPF_",
        "outputId": "78fae11d-398e-46e8-efab-934f5e414fe0"
      },
      "execution_count": null,
      "outputs": [
        {
          "output_type": "execute_result",
          "data": {
            "text/plain": [
              "0.88"
            ]
          },
          "metadata": {},
          "execution_count": 6
        }
      ]
    },
    {
      "cell_type": "markdown",
      "source": [
        "### Comparison"
      ],
      "metadata": {
        "id": "U6mdmVCHY3Zf"
      }
    },
    {
      "cell_type": "code",
      "source": [
        "# Note: Only the final values matter (1, 0, 2) (1,0) (2)\n",
        "\n",
        "#  Perfectly balanced (bad split) => 0.5\n",
        "test_groups1 = [\n",
        "    [\n",
        "        [0,0,0,1],\n",
        "        [0,0,0,0],\n",
        "        [0,0,0,2],\n",
        "    ],\n",
        "    [\n",
        "        [0,0,0,1],\n",
        "        [0,0,0,0],\n",
        "    ],\n",
        "    [\n",
        "        [0,0,0,2]\n",
        "    ]\n",
        "]\n",
        "\n",
        "# Perfectly split => 0\n",
        "test_groups2 = [\n",
        "    [\n",
        "        [0,0,0,0],\n",
        "        [0,0,0,0],\n",
        "        [0,0,0,0],\n",
        "    ],\n",
        "    [\n",
        "        [0,0,0,1],\n",
        "        [0,0,0,1],\n",
        "    ],\n",
        "    [\n",
        "        [0,0,0,2]\n",
        "    ]\n",
        "]\n",
        "\n",
        "# Ok\n",
        "test_groups3 = [\n",
        "    [\n",
        "        [0,0,0,0],\n",
        "        [0,0,0,1],\n",
        "        [0,0,0,1],\n",
        "    ],\n",
        "    [\n",
        "        [0,0,0,0],\n",
        "        [0,0,0,0],\n",
        "    ],\n",
        "    [\n",
        "        [0,0,0,2]\n",
        "    ]\n",
        "]\n",
        "\n",
        "classes = [0, 1, 2]\n",
        "\n",
        "gc = GiniCalculator()\n",
        "g1 = gc.calculate(test_groups1, classes)\n",
        "g2 = gc.calculate(test_groups2, classes)\n",
        "g3 = gc.calculate(test_groups3, classes)\n",
        "\n",
        "ec = EntropyCalculator()\n",
        "e1 = ec.calculate(test_groups1, classes)\n",
        "e2 = ec.calculate(test_groups2, classes)\n",
        "e3 = ec.calculate(test_groups3, classes)\n",
        "\n",
        "print('GINI', g1, g2, g3)\n",
        "print('Entropy', e1, e2, e3)\n"
      ],
      "metadata": {
        "colab": {
          "base_uri": "https://localhost:8080/"
        },
        "id": "5nlslNne6a-D",
        "outputId": "88abbeb6-a291-4be4-e24b-f309f34b1591"
      },
      "execution_count": null,
      "outputs": [
        {
          "output_type": "stream",
          "name": "stdout",
          "text": [
            "GINI 0.5 0.0 0.22\n",
            "Entropy 0.71 0.0 0.29\n"
          ]
        }
      ]
    },
    {
      "cell_type": "markdown",
      "source": [
        "## Decision Tree Class"
      ],
      "metadata": {
        "id": "LCj6DrO2hvVM"
      }
    },
    {
      "cell_type": "markdown",
      "source": [
        "To build a binary decision tree, we need to recursively split into two nodes. As we build the tree and choose columns to split on, we no longer need those columns.\n",
        "\n",
        "We have two parameters to control when we stop splitting:\n",
        "- Max tree depth: Maximum number of nodes from the root. Once this is hit, we stop adding new nodes. If the tree gets too deep, then might overfit\n",
        "- Minimum node records: Minimum number of training patterns that a given node is responsible for.\n"
      ],
      "metadata": {
        "id": "V9bSwqmKFLGm"
      }
    },
    {
      "cell_type": "code",
      "source": [
        "class MyDecisionTree():\n",
        "    def __init__(self, max_depth=2, min_size=1, criterion='gini'):\n",
        "        self.__root = None\n",
        "        self.__max_depth = max_depth\n",
        "        self.__min_size = min_size\n",
        "        if criterion == 'entropy':\n",
        "            self.__calculator = EntropyCalculator()\n",
        "        elif criterion =='gini':\n",
        "            self.__calculator = GiniCalculator()\n",
        "        else:\n",
        "            raise Exception('Invalid criterion')\n",
        "    \n",
        "    def fit(self, X, y):\n",
        "        dataset = np.concatenate((X, np.transpose([y])), axis=1)\n",
        "        root = self._get_split(dataset)\n",
        "        self._split(root, self.__max_depth, self.__min_size, 1)\n",
        "        self.__root = root\n",
        "\n",
        "    # This evaluates all possible numeric splits - exhaustive and greedy\n",
        "    # Could do alternate ways - e.g. pick a random value or choose a sample of data\n",
        "    def _get_split(self, dataset):\n",
        "        class_values = list(set(row[-1] for row in dataset))\n",
        "        b_index, b_value, b_score, b_groups = 999, 999, 999, None\n",
        "        \n",
        "        # Iterate over columns\n",
        "        for index in range(len(dataset[0])-1):\n",
        "        \n",
        "            # Iterate over rows. Greedy and exhaustive. Could change this to just choose random values\n",
        "            # Only handles numeric data. Could also adjust to handle categorical data\n",
        "            for row in dataset:\n",
        "                groups = self._test_split(index, row[index], dataset)\n",
        "                meas = self.__calculator.calculate(groups, class_values)\n",
        "    \n",
        "                if meas < b_score:\n",
        "                    b_index, b_value, b_score, b_groups = index, row[index], meas, groups\n",
        "        \n",
        "        return {'index':b_index, 'value':b_value, 'groups':b_groups}\n",
        "\n",
        "\n",
        "    # Create child splits for a node or make terminal\n",
        "    def _split(self, node, max_depth, min_size, depth):\n",
        "        # Reset\n",
        "        left, right = node['groups']\n",
        "        del(node['groups'])\n",
        "        \n",
        "        # check for a no split\n",
        "        if not left or not right:\n",
        "            node['left'] = node['right'] = self._to_terminal(left + right)\n",
        "            return\n",
        "        \n",
        "        # check for max depth\n",
        "        if depth >= max_depth:\n",
        "            node['left'], node['right'] = self._to_terminal(left), self._to_terminal(right)\n",
        "            return\n",
        "        \n",
        "        # process left child\n",
        "        if len(left) <= min_size:\n",
        "            node['left'] = self._to_terminal(left)\n",
        "        else:\n",
        "            node['left'] = self._get_split(left)\n",
        "            self._split(node['left'], max_depth, min_size, depth+1)\n",
        "        \n",
        "        # process right child\n",
        "        if len(right) <= min_size:\n",
        "            node['right'] = self._to_terminal(right)\n",
        "        else:\n",
        "            node['right'] = self._get_split(right)\n",
        "            self._split(node['right'], max_depth, min_size, depth+1)\n",
        "        \n",
        "    # Split a dataset based on an attribute and an attribute value\n",
        "    # This only works for numeric values and is only binary\n",
        "    # TODO: add categorical feature handling\n",
        "    def _test_split(self, index, value, dataset):\n",
        "        left, right = list(), list()\n",
        "        for row in dataset:\n",
        "            if row[index] < value:\n",
        "                left.append(row)\n",
        "            else:\n",
        "                right.append(row)\n",
        "        return left, right\n",
        "\n",
        "    def _to_terminal(self, group):\n",
        "        outcomes = [row[-1] for row in group]\n",
        "        return max(set(outcomes), key=outcomes.count)\n",
        "    \n",
        "\n",
        "    # Print a decision tree\n",
        "    def print_tree(self):\n",
        "        self._inner_print_tree(self.__root)\n",
        "\n",
        "    def _inner_print_tree(self, node, depth=0):\n",
        "        if isinstance(node, dict):\n",
        "            print('%s[X%d < %.3f]' % ((depth*' ', (node['index']+1), node['value'])))\n",
        "            self._inner_print_tree(node['left'], depth+1)\n",
        "            self._inner_print_tree(node['right'], depth+1)\n",
        "        else:\n",
        "            print('%s[%s]' % ((depth*' ', node)))\n",
        "\n",
        "    \n",
        "    def predict(self, X):\n",
        "        fake_y =  np.zeros(len(X))\n",
        "        new_x = np.concatenate((X, np.transpose([fake_y])), axis = 1)\n",
        "\n",
        "        preds = []\n",
        "        for x in new_x:\n",
        "            next_pred = self._predict(self.__root, x)\n",
        "            preds.append(next_pred)\n",
        "        \n",
        "        return preds\n",
        "\n",
        "\n",
        "    def _predict(self, node, row):\n",
        "        if row[node['index']] < node['value']:\n",
        "            if isinstance(node['left'], dict):\n",
        "                return self._predict(node['left'], row)\n",
        "            else:\n",
        "                return node['left']\n",
        "        else:\n",
        "            if isinstance(node['right'], dict):\n",
        "                return self._predict(node['right'], row)\n",
        "            else:\n",
        "                return node['right']"
      ],
      "metadata": {
        "id": "WSxlqouUSh7U"
      },
      "execution_count": null,
      "outputs": []
    },
    {
      "cell_type": "markdown",
      "source": [
        "### Test Execution"
      ],
      "metadata": {
        "id": "NVKi1u3y0vXO"
      }
    },
    {
      "cell_type": "code",
      "source": [
        "dataset = [[2.771244718,1.784783929,0],\n",
        "\t[1.728571309,1.169761413,0],\n",
        "\t[3.678319846,2.81281357,0],\n",
        "\t[3.961043357,2.61995032,0],\n",
        "\t[2.999208922,2.209014212,0],\n",
        "\t[7.497545867,3.162953546,1],\n",
        "\t[9.00220326,3.339047188,1],\n",
        "\t[7.444542326,0.476683375,1],\n",
        "\t[10.12493903,3.234550982,1],\n",
        "\t[6.642287351,3.319983761,1]]\n",
        "\n",
        "X = [r[:-1] for r in dataset]\n",
        "y = [r[-1] for r in dataset]\n"
      ],
      "metadata": {
        "id": "OyKMP-lMDUkA"
      },
      "execution_count": null,
      "outputs": []
    },
    {
      "cell_type": "code",
      "source": [
        "dt = MyDecisionTree(max_depth = 3, min_size=1, criterion='gini')\n",
        "\n",
        "dt.fit(X,y)\n",
        "\n",
        "dt.print_tree()\n"
      ],
      "metadata": {
        "colab": {
          "base_uri": "https://localhost:8080/"
        },
        "id": "CKM0x6JqbL0R",
        "outputId": "651e8d91-6b27-43c4-b3e9-fcbf3fc2f293"
      },
      "execution_count": null,
      "outputs": [
        {
          "output_type": "stream",
          "name": "stdout",
          "text": [
            "[X1 < 6.642]\n",
            " [X1 < 2.771]\n",
            "  [0.0]\n",
            "  [X1 < 2.771]\n",
            "   [0.0]\n",
            "   [0.0]\n",
            " [X1 < 7.498]\n",
            "  [X1 < 7.445]\n",
            "   [1.0]\n",
            "   [1.0]\n",
            "  [X1 < 7.498]\n",
            "   [1.0]\n",
            "   [1.0]\n"
          ]
        }
      ]
    },
    {
      "cell_type": "code",
      "source": [
        "test_val = [1.2, 2.1]\n",
        "preds = dt.predict([test_val])\n",
        "\n",
        "print(preds)"
      ],
      "metadata": {
        "colab": {
          "base_uri": "https://localhost:8080/"
        },
        "id": "QPoUymfLivaC",
        "outputId": "04c87a4c-2410-414d-aab9-76fbbee08fa0"
      },
      "execution_count": null,
      "outputs": [
        {
          "output_type": "stream",
          "name": "stdout",
          "text": [
            "[0.0]\n"
          ]
        }
      ]
    },
    {
      "cell_type": "markdown",
      "source": [
        "## Evaluation and Comparison"
      ],
      "metadata": {
        "id": "Q_oNKpU0vXJP"
      }
    },
    {
      "cell_type": "code",
      "source": [
        "from sklearn import metrics\n",
        "from sklearn.model_selection import train_test_split\n",
        "from sklearn.tree import DecisionTreeClassifier"
      ],
      "metadata": {
        "id": "4Tu1UCTEHg-G"
      },
      "execution_count": null,
      "outputs": []
    },
    {
      "cell_type": "code",
      "source": [
        "from sklearn import datasets\n",
        "\n",
        "iris = datasets.load_iris()\n",
        "df = pd.DataFrame(data= np.c_[iris['data'], iris['target']], columns= iris['feature_names'] + ['target'])\n",
        "df.head()"
      ],
      "metadata": {
        "colab": {
          "base_uri": "https://localhost:8080/",
          "height": 206
        },
        "id": "L0bNRe54zxCS",
        "outputId": "add131ed-10fa-4e54-809a-0fd1a6ecedb4"
      },
      "execution_count": null,
      "outputs": [
        {
          "output_type": "execute_result",
          "data": {
            "text/plain": [
              "   sepal length (cm)  sepal width (cm)  petal length (cm)  petal width (cm)  \\\n",
              "0                5.1               3.5                1.4               0.2   \n",
              "1                4.9               3.0                1.4               0.2   \n",
              "2                4.7               3.2                1.3               0.2   \n",
              "3                4.6               3.1                1.5               0.2   \n",
              "4                5.0               3.6                1.4               0.2   \n",
              "\n",
              "   target  \n",
              "0     0.0  \n",
              "1     0.0  \n",
              "2     0.0  \n",
              "3     0.0  \n",
              "4     0.0  "
            ],
            "text/html": [
              "\n",
              "  <div id=\"df-f90dcab1-037e-43ce-a4ae-eb9a08fd4bad\">\n",
              "    <div class=\"colab-df-container\">\n",
              "      <div>\n",
              "<style scoped>\n",
              "    .dataframe tbody tr th:only-of-type {\n",
              "        vertical-align: middle;\n",
              "    }\n",
              "\n",
              "    .dataframe tbody tr th {\n",
              "        vertical-align: top;\n",
              "    }\n",
              "\n",
              "    .dataframe thead th {\n",
              "        text-align: right;\n",
              "    }\n",
              "</style>\n",
              "<table border=\"1\" class=\"dataframe\">\n",
              "  <thead>\n",
              "    <tr style=\"text-align: right;\">\n",
              "      <th></th>\n",
              "      <th>sepal length (cm)</th>\n",
              "      <th>sepal width (cm)</th>\n",
              "      <th>petal length (cm)</th>\n",
              "      <th>petal width (cm)</th>\n",
              "      <th>target</th>\n",
              "    </tr>\n",
              "  </thead>\n",
              "  <tbody>\n",
              "    <tr>\n",
              "      <th>0</th>\n",
              "      <td>5.1</td>\n",
              "      <td>3.5</td>\n",
              "      <td>1.4</td>\n",
              "      <td>0.2</td>\n",
              "      <td>0.0</td>\n",
              "    </tr>\n",
              "    <tr>\n",
              "      <th>1</th>\n",
              "      <td>4.9</td>\n",
              "      <td>3.0</td>\n",
              "      <td>1.4</td>\n",
              "      <td>0.2</td>\n",
              "      <td>0.0</td>\n",
              "    </tr>\n",
              "    <tr>\n",
              "      <th>2</th>\n",
              "      <td>4.7</td>\n",
              "      <td>3.2</td>\n",
              "      <td>1.3</td>\n",
              "      <td>0.2</td>\n",
              "      <td>0.0</td>\n",
              "    </tr>\n",
              "    <tr>\n",
              "      <th>3</th>\n",
              "      <td>4.6</td>\n",
              "      <td>3.1</td>\n",
              "      <td>1.5</td>\n",
              "      <td>0.2</td>\n",
              "      <td>0.0</td>\n",
              "    </tr>\n",
              "    <tr>\n",
              "      <th>4</th>\n",
              "      <td>5.0</td>\n",
              "      <td>3.6</td>\n",
              "      <td>1.4</td>\n",
              "      <td>0.2</td>\n",
              "      <td>0.0</td>\n",
              "    </tr>\n",
              "  </tbody>\n",
              "</table>\n",
              "</div>\n",
              "      <button class=\"colab-df-convert\" onclick=\"convertToInteractive('df-f90dcab1-037e-43ce-a4ae-eb9a08fd4bad')\"\n",
              "              title=\"Convert this dataframe to an interactive table.\"\n",
              "              style=\"display:none;\">\n",
              "        \n",
              "  <svg xmlns=\"http://www.w3.org/2000/svg\" height=\"24px\"viewBox=\"0 0 24 24\"\n",
              "       width=\"24px\">\n",
              "    <path d=\"M0 0h24v24H0V0z\" fill=\"none\"/>\n",
              "    <path d=\"M18.56 5.44l.94 2.06.94-2.06 2.06-.94-2.06-.94-.94-2.06-.94 2.06-2.06.94zm-11 1L8.5 8.5l.94-2.06 2.06-.94-2.06-.94L8.5 2.5l-.94 2.06-2.06.94zm10 10l.94 2.06.94-2.06 2.06-.94-2.06-.94-.94-2.06-.94 2.06-2.06.94z\"/><path d=\"M17.41 7.96l-1.37-1.37c-.4-.4-.92-.59-1.43-.59-.52 0-1.04.2-1.43.59L10.3 9.45l-7.72 7.72c-.78.78-.78 2.05 0 2.83L4 21.41c.39.39.9.59 1.41.59.51 0 1.02-.2 1.41-.59l7.78-7.78 2.81-2.81c.8-.78.8-2.07 0-2.86zM5.41 20L4 18.59l7.72-7.72 1.47 1.35L5.41 20z\"/>\n",
              "  </svg>\n",
              "      </button>\n",
              "      \n",
              "  <style>\n",
              "    .colab-df-container {\n",
              "      display:flex;\n",
              "      flex-wrap:wrap;\n",
              "      gap: 12px;\n",
              "    }\n",
              "\n",
              "    .colab-df-convert {\n",
              "      background-color: #E8F0FE;\n",
              "      border: none;\n",
              "      border-radius: 50%;\n",
              "      cursor: pointer;\n",
              "      display: none;\n",
              "      fill: #1967D2;\n",
              "      height: 32px;\n",
              "      padding: 0 0 0 0;\n",
              "      width: 32px;\n",
              "    }\n",
              "\n",
              "    .colab-df-convert:hover {\n",
              "      background-color: #E2EBFA;\n",
              "      box-shadow: 0px 1px 2px rgba(60, 64, 67, 0.3), 0px 1px 3px 1px rgba(60, 64, 67, 0.15);\n",
              "      fill: #174EA6;\n",
              "    }\n",
              "\n",
              "    [theme=dark] .colab-df-convert {\n",
              "      background-color: #3B4455;\n",
              "      fill: #D2E3FC;\n",
              "    }\n",
              "\n",
              "    [theme=dark] .colab-df-convert:hover {\n",
              "      background-color: #434B5C;\n",
              "      box-shadow: 0px 1px 3px 1px rgba(0, 0, 0, 0.15);\n",
              "      filter: drop-shadow(0px 1px 2px rgba(0, 0, 0, 0.3));\n",
              "      fill: #FFFFFF;\n",
              "    }\n",
              "  </style>\n",
              "\n",
              "      <script>\n",
              "        const buttonEl =\n",
              "          document.querySelector('#df-f90dcab1-037e-43ce-a4ae-eb9a08fd4bad button.colab-df-convert');\n",
              "        buttonEl.style.display =\n",
              "          google.colab.kernel.accessAllowed ? 'block' : 'none';\n",
              "\n",
              "        async function convertToInteractive(key) {\n",
              "          const element = document.querySelector('#df-f90dcab1-037e-43ce-a4ae-eb9a08fd4bad');\n",
              "          const dataTable =\n",
              "            await google.colab.kernel.invokeFunction('convertToInteractive',\n",
              "                                                     [key], {});\n",
              "          if (!dataTable) return;\n",
              "\n",
              "          const docLinkHtml = 'Like what you see? Visit the ' +\n",
              "            '<a target=\"_blank\" href=https://colab.research.google.com/notebooks/data_table.ipynb>data table notebook</a>'\n",
              "            + ' to learn more about interactive tables.';\n",
              "          element.innerHTML = '';\n",
              "          dataTable['output_type'] = 'display_data';\n",
              "          await google.colab.output.renderOutput(dataTable, element);\n",
              "          const docLink = document.createElement('div');\n",
              "          docLink.innerHTML = docLinkHtml;\n",
              "          element.appendChild(docLink);\n",
              "        }\n",
              "      </script>\n",
              "    </div>\n",
              "  </div>\n",
              "  "
            ]
          },
          "metadata": {},
          "execution_count": 14
        }
      ]
    },
    {
      "cell_type": "code",
      "source": [
        "X = df.loc[:, df.columns != 'target'].values\n",
        "y = df['target'].values\n",
        "\n",
        "X_train, X_test, y_train, y_test = train_test_split(X, y)"
      ],
      "metadata": {
        "id": "VOx7y0P40Be3"
      },
      "execution_count": null,
      "outputs": []
    },
    {
      "cell_type": "code",
      "source": [
        "my_dt = MyDecisionTree(max_depth=4, min_size=1, criterion='gini')\n",
        "\n",
        "my_dt.fit(X_train, y_train)\n",
        "\n",
        "preds = my_dt.predict(X_test)\n",
        "\n",
        "print(metrics.classification_report(y_test,preds))"
      ],
      "metadata": {
        "id": "wPq1AywWTHPe",
        "colab": {
          "base_uri": "https://localhost:8080/"
        },
        "outputId": "6a1d0941-3243-47c4-ac68-3a8f3c2d5c88"
      },
      "execution_count": null,
      "outputs": [
        {
          "output_type": "stream",
          "name": "stdout",
          "text": [
            "              precision    recall  f1-score   support\n",
            "\n",
            "         0.0       0.95      1.00      0.97        18\n",
            "         1.0       1.00      0.91      0.95        11\n",
            "         2.0       1.00      1.00      1.00         9\n",
            "\n",
            "    accuracy                           0.97        38\n",
            "   macro avg       0.98      0.97      0.98        38\n",
            "weighted avg       0.98      0.97      0.97        38\n",
            "\n"
          ]
        }
      ]
    },
    {
      "cell_type": "code",
      "source": [
        "dt = DecisionTreeClassifier(criterion='gini', max_depth=2)\n",
        "dt.fit(X,y)\n",
        "\n",
        "preds2 = dt.predict(X_test)\n",
        "print(metrics.classification_report(y_test, preds2))"
      ],
      "metadata": {
        "colab": {
          "base_uri": "https://localhost:8080/"
        },
        "id": "EgIbsH61yim_",
        "outputId": "65cdb624-9be6-4a10-dc7b-dcdf4ea48a02"
      },
      "execution_count": null,
      "outputs": [
        {
          "output_type": "stream",
          "name": "stdout",
          "text": [
            "              precision    recall  f1-score   support\n",
            "\n",
            "         0.0       1.00      1.00      1.00        18\n",
            "         1.0       0.92      1.00      0.96        11\n",
            "         2.0       1.00      0.89      0.94         9\n",
            "\n",
            "    accuracy                           0.97        38\n",
            "   macro avg       0.97      0.96      0.97        38\n",
            "weighted avg       0.98      0.97      0.97        38\n",
            "\n"
          ]
        }
      ]
    },
    {
      "cell_type": "code",
      "source": [
        "from sklearn import tree\n",
        "tree.plot_tree(dt)"
      ],
      "metadata": {
        "colab": {
          "base_uri": "https://localhost:8080/",
          "height": 335
        },
        "id": "y_m3ocE9iDuL",
        "outputId": "11d6e7d3-7956-49ce-876f-726942260078"
      },
      "execution_count": null,
      "outputs": [
        {
          "output_type": "execute_result",
          "data": {
            "text/plain": [
              "[Text(0.4, 0.8333333333333334, 'X[2] <= 2.45\\ngini = 0.667\\nsamples = 150\\nvalue = [50, 50, 50]'),\n",
              " Text(0.2, 0.5, 'gini = 0.0\\nsamples = 50\\nvalue = [50, 0, 0]'),\n",
              " Text(0.6, 0.5, 'X[3] <= 1.75\\ngini = 0.5\\nsamples = 100\\nvalue = [0, 50, 50]'),\n",
              " Text(0.4, 0.16666666666666666, 'gini = 0.168\\nsamples = 54\\nvalue = [0, 49, 5]'),\n",
              " Text(0.8, 0.16666666666666666, 'gini = 0.043\\nsamples = 46\\nvalue = [0, 1, 45]')]"
            ]
          },
          "metadata": {},
          "execution_count": 18
        },
        {
          "output_type": "display_data",
          "data": {
            "text/plain": [
              "<Figure size 432x288 with 1 Axes>"
            ],
            "image/png": "[encoded data removed]"
          },
          "metadata": {
            "needs_background": "light"
          }
        }
      ]
    }
  ]
}